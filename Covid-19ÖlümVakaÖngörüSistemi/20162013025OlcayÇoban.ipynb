{
  "nbformat": 4,
  "nbformat_minor": 0,
  "metadata": {
    "colab": {
      "name": "CovidItalyyy",
      "provenance": [],
      "collapsed_sections": []
    },
    "kernelspec": {
      "name": "python3",
      "display_name": "Python 3"
    }
  },
  "cells": [
    {
      "cell_type": "code",
      "metadata": {
        "id": "-LOkZg1GWdvH",
        "colab_type": "code",
        "outputId": "05728006-6ab1-44f8-f754-f72b144f9dc2",
        "colab": {
          "base_uri": "https://localhost:8080/",
          "height": 34
        }
      },
      "source": [
        "from __future__ import print_function\n",
        "import os\n",
        "import numpy as np\n",
        "import pandas as pd\n",
        "import matplotlib.pyplot as plt\n",
        "\n",
        "import keras\n",
        "from keras import metrics\n",
        "from keras import regularizers\n",
        "from keras.models import Sequential\n",
        "from keras.layers import Dense, Dropout, Flatten, Activation\n",
        "from keras.layers import Conv2D, MaxPooling2D\n",
        "from keras.optimizers import Adam, RMSprop\n",
        "from keras.callbacks import TensorBoard, EarlyStopping, ModelCheckpoint\n",
        "from keras.utils import plot_model\n",
        "from keras.models import load_model\n",
        "\n",
        "pd.set_option(\"max_columns\",50)"
      ],
      "execution_count": 0,
      "outputs": [
        {
          "output_type": "stream",
          "text": [
            "Using TensorFlow backend.\n"
          ],
          "name": "stderr"
        }
      ]
    },
    {
      "cell_type": "code",
      "metadata": {
        "id": "ZF9M7cY_W0mZ",
        "colab_type": "code",
        "outputId": "48ff5d5a-9aca-4fd1-bbf9-394d94ba2624",
        "colab": {
          "base_uri": "https://localhost:8080/",
          "height": 816
        }
      },
      "source": [
        "data=pd.read_csv(\"ita.csv\")\n",
        "print(data.tail(10))"
      ],
      "execution_count": 0,
      "outputs": [
        {
          "output_type": "stream",
          "text": [
            "                   data stato  ricoverati_con_sintomi  terapia_intensiva  \\\n",
            "41  2020-04-05T17:00:00   ITA                   28949               3977   \n",
            "42  2020-04-06T17:00:00   ITA                   28976               3898   \n",
            "43  2020-04-07T17:00:00   ITA                   28718               3792   \n",
            "44  2020-04-08T17:00:00   ITA                   28485               3693   \n",
            "45  2020-04-09T17:00:00   ITA                   28399               3605   \n",
            "46  2020-04-10T17:00:00   ITA                   28242               3497   \n",
            "47  2020-04-11T17:00:00   ITA                   28144               3381   \n",
            "48  2020-04-12T17:00:00   ITA                   27847               3343   \n",
            "49  2020-04-13T17:00:00   ITA                   28023               3260   \n",
            "50  2020-04-14T17:00:00   ITA                   28011               3186   \n",
            "\n",
            "    totale_ospedalizzati  isolamento_domiciliare  totale_positivi  \\\n",
            "41                 32926                   58320            91246   \n",
            "42                 32874                   60313            93187   \n",
            "43                 32510                   61557            94067   \n",
            "44                 32178                   63084            95262   \n",
            "45                 32004                   64873            96877   \n",
            "46                 31739                   66534            98273   \n",
            "47                 31525                   68744           100269   \n",
            "48                 31190                   71063           102253   \n",
            "49                 31283                   72333           103616   \n",
            "50                 31197                   73094           104291   \n",
            "\n",
            "    variazione_totale_positivi  nuovi_positivi  dimessi_guariti  deceduti  \\\n",
            "41                        2972            4316            21815     15887   \n",
            "42                        1941            3599            22837     16523   \n",
            "43                         880            3039            24392     17127   \n",
            "44                        1195            3836            26491     17669   \n",
            "45                        1615            4204            28470     18279   \n",
            "46                        1396            3951            30455     18849   \n",
            "47                        1996            4694            32534     19468   \n",
            "48                        1984            4092            34211     19899   \n",
            "49                        1363            3153            35435     20465   \n",
            "50                         675            2972            37130     21067   \n",
            "\n",
            "    totale_casi  tamponi     note_it     note_en  \n",
            "41       128948   691461         NaN         NaN  \n",
            "42       132547   721732         NaN         NaN  \n",
            "43       135586   755445         NaN         NaN  \n",
            "44       139422   807125         NaN         NaN  \n",
            "45       143626   853369         NaN         NaN  \n",
            "46       147577   906864  pd-IT-0011  pd-EN-0011  \n",
            "47       152271   963473         NaN         NaN  \n",
            "48       156363  1010193  dc-IT-0003  dc-EN-0003  \n",
            "49       159516  1046910         NaN         NaN  \n",
            "50       162488  1073689         NaN         NaN  \n"
          ],
          "name": "stdout"
        }
      ]
    },
    {
      "cell_type": "code",
      "metadata": {
        "id": "CiOWd9kbXpWd",
        "colab_type": "code",
        "outputId": "c21735e3-df0b-4ac6-efd4-11dbb61d0a35",
        "colab": {
          "base_uri": "https://localhost:8080/",
          "height": 102
        }
      },
      "source": [
        "print(data.keys())"
      ],
      "execution_count": 0,
      "outputs": [
        {
          "output_type": "stream",
          "text": [
            "Index(['data', 'stato', 'ricoverati_con_sintomi', 'terapia_intensiva',\n",
            "       'totale_ospedalizzati', 'isolamento_domiciliare', 'totale_positivi',\n",
            "       'variazione_totale_positivi', 'nuovi_positivi', 'dimessi_guariti',\n",
            "       'deceduti', 'totale_casi', 'tamponi', 'note_it', 'note_en'],\n",
            "      dtype='object')\n"
          ],
          "name": "stdout"
        }
      ]
    },
    {
      "cell_type": "code",
      "metadata": {
        "id": "IodGS4qek55H",
        "colab_type": "code",
        "colab": {}
      },
      "source": [
        "a=data['deceduti'][50]"
      ],
      "execution_count": 0,
      "outputs": []
    },
    {
      "cell_type": "code",
      "metadata": {
        "id": "eWSDzC9QenL5",
        "colab_type": "code",
        "outputId": "2369fc48-9027-44e3-fe5f-9bc0430388ff",
        "colab": {
          "base_uri": "https://localhost:8080/",
          "height": 207
        }
      },
      "source": [
        "total_rows=data['deceduti'].count()\n",
        "for i in range(total_rows-1,-1, -1):\n",
        "    if i==0:\n",
        "      data['deceduti'][0]=data['deceduti'][0]\n",
        "    else:\n",
        "      data['deceduti'][i]=data['deceduti'][i]-data['deceduti'][i-1]"
      ],
      "execution_count": 0,
      "outputs": [
        {
          "output_type": "stream",
          "text": [
            "/usr/local/lib/python3.6/dist-packages/ipykernel_launcher.py:6: SettingWithCopyWarning: \n",
            "A value is trying to be set on a copy of a slice from a DataFrame\n",
            "\n",
            "See the caveats in the documentation: https://pandas.pydata.org/pandas-docs/stable/user_guide/indexing.html#returning-a-view-versus-a-copy\n",
            "  \n",
            "/usr/local/lib/python3.6/dist-packages/ipykernel_launcher.py:4: SettingWithCopyWarning: \n",
            "A value is trying to be set on a copy of a slice from a DataFrame\n",
            "\n",
            "See the caveats in the documentation: https://pandas.pydata.org/pandas-docs/stable/user_guide/indexing.html#returning-a-view-versus-a-copy\n",
            "  after removing the cwd from sys.path.\n"
          ],
          "name": "stderr"
        }
      ]
    },
    {
      "cell_type": "code",
      "metadata": {
        "id": "VRN0e4DulfNK",
        "colab_type": "code",
        "outputId": "ec4a362c-7ab3-48e3-9a36-51fbab345d22",
        "colab": {
          "base_uri": "https://localhost:8080/",
          "height": 901
        }
      },
      "source": [
        "Y=data['deceduti']\n",
        "print(Y)"
      ],
      "execution_count": 0,
      "outputs": [
        {
          "output_type": "stream",
          "text": [
            "0       7\n",
            "1       3\n",
            "2       2\n",
            "3       5\n",
            "4       4\n",
            "5       8\n",
            "6       5\n",
            "7      18\n",
            "8      27\n",
            "9      28\n",
            "10     41\n",
            "11     49\n",
            "12     36\n",
            "13    133\n",
            "14     97\n",
            "15    168\n",
            "16    196\n",
            "17    189\n",
            "18    250\n",
            "19    175\n",
            "20    368\n",
            "21    349\n",
            "22    345\n",
            "23    475\n",
            "24    427\n",
            "25    627\n",
            "26    793\n",
            "27    651\n",
            "28    601\n",
            "29    743\n",
            "30    683\n",
            "31    662\n",
            "32    969\n",
            "33    889\n",
            "34    756\n",
            "35    812\n",
            "36    837\n",
            "37    727\n",
            "38    760\n",
            "39    766\n",
            "40    681\n",
            "41    525\n",
            "42    636\n",
            "43    604\n",
            "44    542\n",
            "45    610\n",
            "46    570\n",
            "47    619\n",
            "48    431\n",
            "49    566\n",
            "50    602\n",
            "Name: deceduti, dtype: int64\n"
          ],
          "name": "stdout"
        }
      ]
    },
    {
      "cell_type": "code",
      "metadata": {
        "id": "yuXjWLVKX6UZ",
        "colab_type": "code",
        "outputId": "11d5161e-ca0a-4bcb-abc1-1465dd0436ee",
        "colab": {
          "base_uri": "https://localhost:8080/",
          "height": 1000
        }
      },
      "source": [
        "X=data.drop(columns=['data','stato','totale_positivi','isolamento_domiciliare','tamponi',\n",
        "                     'totale_casi','note_it','note_en','dimessi_guariti','deceduti'])\n",
        "from sklearn.model_selection import train_test_split\n",
        "X_train, X_val_and_test, Y_train, Y_val_and_test = train_test_split(X, Y, test_size=0.15 ,shuffle=False)\n",
        "X_val, X_test, Y_val, Y_test = train_test_split(X_val_and_test, Y_val_and_test, test_size=0.5,shuffle=False)\n",
        "print(X)"
      ],
      "execution_count": 0,
      "outputs": [
        {
          "output_type": "stream",
          "text": [
            "    ricoverati_con_sintomi  terapia_intensiva  totale_ospedalizzati  \\\n",
            "0                      101                 26                   127   \n",
            "1                      114                 35                   150   \n",
            "2                      128                 36                   164   \n",
            "3                      248                 56                   304   \n",
            "4                      345                 64                   409   \n",
            "5                      401                105                   506   \n",
            "6                      639                140                   779   \n",
            "7                      742                166                   908   \n",
            "8                     1034                229                  1263   \n",
            "9                     1346                295                  1641   \n",
            "10                    1790                351                  2141   \n",
            "11                    2394                462                  2856   \n",
            "12                    2651                567                  3218   \n",
            "13                    3557                650                  4207   \n",
            "14                    4316                733                  5049   \n",
            "15                    5038                877                  5915   \n",
            "16                    5838               1028                  6866   \n",
            "17                    6650               1153                  7803   \n",
            "18                    7426               1328                  8754   \n",
            "19                    8372               1518                  9890   \n",
            "20                    9663               1672                 11335   \n",
            "21                   11025               1851                 12876   \n",
            "22                   12894               2060                 14954   \n",
            "23                   14363               2257                 16620   \n",
            "24                   15757               2498                 18255   \n",
            "25                   16020               2655                 18675   \n",
            "26                   17708               2857                 20565   \n",
            "27                   19846               3009                 22855   \n",
            "28                   20692               3204                 23896   \n",
            "29                   21937               3396                 25333   \n",
            "30                   23112               3489                 26601   \n",
            "31                   24753               3612                 28365   \n",
            "32                   26029               3732                 29761   \n",
            "33                   26676               3856                 30532   \n",
            "34                   27386               3906                 31292   \n",
            "35                   27795               3981                 31776   \n",
            "36                   28192               4023                 32215   \n",
            "37                   28403               4035                 32438   \n",
            "38                   28540               4053                 32593   \n",
            "39                   28741               4068                 32809   \n",
            "40                   29010               3994                 33004   \n",
            "41                   28949               3977                 32926   \n",
            "42                   28976               3898                 32874   \n",
            "43                   28718               3792                 32510   \n",
            "44                   28485               3693                 32178   \n",
            "45                   28399               3605                 32004   \n",
            "46                   28242               3497                 31739   \n",
            "47                   28144               3381                 31525   \n",
            "48                   27847               3343                 31190   \n",
            "49                   28023               3260                 31283   \n",
            "50                   28011               3186                 31197   \n",
            "\n",
            "    variazione_totale_positivi  nuovi_positivi  \n",
            "0                            0             221  \n",
            "1                           90              93  \n",
            "2                           74              78  \n",
            "3                          203             250  \n",
            "4                          233             238  \n",
            "5                          228             240  \n",
            "6                          528             566  \n",
            "7                          258             342  \n",
            "8                          428             466  \n",
            "9                          443             587  \n",
            "10                         590             769  \n",
            "11                         620             778  \n",
            "12                        1145            1247  \n",
            "13                        1326            1492  \n",
            "14                        1598            1797  \n",
            "15                         529             977  \n",
            "16                        2076            2313  \n",
            "17                        2249            2651  \n",
            "18                        2116            2547  \n",
            "19                        2795            3497  \n",
            "20                        2853            3590  \n",
            "21                        2470            3233  \n",
            "22                        2989            3526  \n",
            "23                        2648            4207  \n",
            "24                        4480            5322  \n",
            "25                        4670            5986  \n",
            "26                        4821            6557  \n",
            "27                        3957            5560  \n",
            "28                        3780            4789  \n",
            "29                        3612            5249  \n",
            "30                        3491            5210  \n",
            "31                        4492            6153  \n",
            "32                        4401            5959  \n",
            "33                        3651            5974  \n",
            "34                        3815            5217  \n",
            "35                        1648            4050  \n",
            "36                        2107            4053  \n",
            "37                        2937            4782  \n",
            "38                        2477            4668  \n",
            "39                        2339            4585  \n",
            "40                        2886            4805  \n",
            "41                        2972            4316  \n",
            "42                        1941            3599  \n",
            "43                         880            3039  \n",
            "44                        1195            3836  \n",
            "45                        1615            4204  \n",
            "46                        1396            3951  \n",
            "47                        1996            4694  \n",
            "48                        1984            4092  \n",
            "49                        1363            3153  \n",
            "50                         675            2972  \n"
          ],
          "name": "stdout"
        }
      ]
    },
    {
      "cell_type": "code",
      "metadata": {
        "id": "BkzeDmVTa0Tj",
        "colab_type": "code",
        "colab": {}
      },
      "source": [
        "t_model = Sequential()\n",
        "t_model.add(Dense(80, activation=\"tanh\", kernel_initializer='normal', input_shape=(5,)))\n",
        "t_model.add(Dropout(0.2))\n",
        "t_model.add(Dense(120, activation=\"relu\", kernel_initializer='normal', \n",
        "kernel_regularizer=regularizers.l1(0.01), bias_regularizer=regularizers.l1(0.01)))\n",
        "t_model.add(Dropout(0.1))\n",
        "t_model.add(Dense(20, activation=\"relu\", kernel_initializer='normal', \n",
        "kernel_regularizer=regularizers.l1_l2(0.01), bias_regularizer=regularizers.l1_l2(0.01)))\n",
        "t_model.add(Dropout(0.1))\n",
        "t_model.add(Dense(10, activation=\"relu\", kernel_initializer='normal'))\n",
        "t_model.add(Dropout(0.0))\n",
        "t_model.add(Dense(1))\n",
        "t_model.compile(\n",
        "      loss='mean_squared_error',\n",
        "      optimizer='nadam',\n",
        "      metrics=[metrics.mae])"
      ],
      "execution_count": 0,
      "outputs": []
    },
    {
      "cell_type": "code",
      "metadata": {
        "id": "BDpcO_sAa-Wj",
        "colab_type": "code",
        "colab": {}
      },
      "source": [
        "epochs = 100\n",
        "batch_size = 32\n",
        "\n",
        "keras_callbacks = [\n",
        "    EarlyStopping(monitor='val_mean_absolute_error', patience=20, verbose=0)\n",
        "]\n",
        "\n",
        "history = t_model.fit(X_train, Y_train,\n",
        "    batch_size=batch_size,\n",
        "    epochs=epochs,\n",
        "    shuffle=True,\n",
        "    verbose=0, # Change it to 2, if wished to observe execution\n",
        "    validation_data=(X_val, Y_val),\n",
        "    callbacks=keras_callbacks)"
      ],
      "execution_count": 0,
      "outputs": []
    },
    {
      "cell_type": "code",
      "metadata": {
        "id": "X6dlDR5nbNpv",
        "colab_type": "code",
        "outputId": "19ec7a6c-6764-4d0f-bc79-d156a5e93575",
        "colab": {
          "base_uri": "https://localhost:8080/",
          "height": 51
        }
      },
      "source": [
        "train_score = t_model.evaluate(X_train, Y_train, verbose=0)\n",
        "valid_score = t_model.evaluate(X_val, Y_val, verbose=0)\n",
        "\n",
        "print('Train MAE: ', round(train_score[1], 4), ', Train Loss: ', round(train_score[0], 4)) \n",
        "print('Val MAE: ', round(valid_score[1], 4), ', Val Loss: ', round(valid_score[0], 4))"
      ],
      "execution_count": 0,
      "outputs": [
        {
          "output_type": "stream",
          "text": [
            "Train MAE:  140.4542 , Train Loss:  34133.5548\n",
            "Val MAE:  35.0486 , Val Loss:  1990.9341\n"
          ],
          "name": "stdout"
        }
      ]
    },
    {
      "cell_type": "code",
      "metadata": {
        "id": "BTZRzdi_bXgM",
        "colab_type": "code",
        "colab": {}
      },
      "source": [
        "def plot_hist(h, xsize=6, ysize=10):\n",
        "    # Prepare plotting\n",
        "    fig_size = plt.rcParams[\"figure.figsize\"]\n",
        "    plt.rcParams[\"figure.figsize\"] = [xsize, ysize]\n",
        "    fig, axes = plt.subplots(nrows=4, ncols=4, sharex=True)\n",
        "    \n",
        "    # summarize history for MAE\n",
        "    plt.subplot(211)\n",
        "    plt.plot(h['mean_absolute_error'])\n",
        "    plt.plot(h['val_mean_absolute_error'])\n",
        "    plt.title('Training vs Validation MAE')\n",
        "    plt.ylabel('MAE')\n",
        "    plt.xlabel('Epoch')\n",
        "    plt.legend(['Train', 'Validation'], loc='upper left')\n",
        "    \n",
        "    # summarize history for loss\n",
        "    plt.subplot(212)\n",
        "    plt.plot(h['loss'])\n",
        "    plt.plot(h['val_loss'])\n",
        "    plt.title('Training vs Validation Loss')\n",
        "    plt.ylabel('Loss')\n",
        "    plt.xlabel('Epoch')\n",
        "    plt.legend(['Train', 'Validation'], loc='upper left')"
      ],
      "execution_count": 0,
      "outputs": []
    },
    {
      "cell_type": "code",
      "metadata": {
        "id": "507wEnQVbZrB",
        "colab_type": "code",
        "outputId": "8f618ae7-f599-453d-b42b-865360891833",
        "colab": {
          "base_uri": "https://localhost:8080/",
          "height": 730
        }
      },
      "source": [
        "plot_hist(history.history, xsize=8, ysize=12)"
      ],
      "execution_count": 0,
      "outputs": [
        {
          "output_type": "display_data",
          "data": {
            "image/png": "[encoded data removed]",
            "text/plain": [
              "<Figure size 576x864 with 2 Axes>"
            ]
          },
          "metadata": {
            "tags": [],
            "needs_background": "light"
          }
        }
      ]
    },
    {
      "cell_type": "code",
      "metadata": {
        "id": "X7eVl_rObeJ4",
        "colab_type": "code",
        "outputId": "be9190ee-61c3-4db4-e7db-04be4eebd70f",
        "colab": {
          "base_uri": "https://localhost:8080/",
          "height": 85
        }
      },
      "source": [
        "t_model.predict(X_test)"
      ],
      "execution_count": 0,
      "outputs": [
        {
          "output_type": "execute_result",
          "data": {
            "text/plain": [
              "array([[655.75415],\n",
              "       [655.75415],\n",
              "       [655.75415],\n",
              "       [655.75415]], dtype=float32)"
            ]
          },
          "metadata": {
            "tags": []
          },
          "execution_count": 46
        }
      ]
    },
    {
      "cell_type": "code",
      "metadata": {
        "id": "5rO7JuT1pB3L",
        "colab_type": "code",
        "outputId": "91617aef-d1da-427a-bc75-854318906b63",
        "colab": {
          "base_uri": "https://localhost:8080/",
          "height": 102
        }
      },
      "source": [
        "print(Y_test)"
      ],
      "execution_count": 0,
      "outputs": [
        {
          "output_type": "stream",
          "text": [
            "47    619\n",
            "48    431\n",
            "49    566\n",
            "50    602\n",
            "Name: deceduti, dtype: int64\n"
          ],
          "name": "stdout"
        }
      ]
    }
  ]
}